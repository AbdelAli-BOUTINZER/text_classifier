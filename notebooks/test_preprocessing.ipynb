{
 "cells": [
  {
   "cell_type": "code",
   "execution_count": 2,
   "metadata": {},
   "outputs": [
    {
     "name": "stdout",
     "output_type": "stream",
     "text": [
      "Original: The economy is BOOMING, thanks to innovation and investors' confidence!\n",
      "Cleaned: economy boom thank innovation investor confidence\n"
     ]
    }
   ],
   "source": [
    "import sys\n",
    "sys.path.append(\"../src\")\n",
    "\n",
    "from preprocessing.preprocessor_factory import PreprocessorFactory\n",
    "\n",
    "preprocessor = PreprocessorFactory.get_preprocessor(\"spacy\")\n",
    "\n",
    "text = \"The economy is BOOMING, thanks to innovation and investors' confidence!\"\n",
    "\n",
    "cleaned = preprocessor.clean(text)\n",
    "print(\"Original:\", text)\n",
    "print(\"Cleaned:\", cleaned)\n"
   ]
  },
  {
   "cell_type": "code",
   "execution_count": 3,
   "metadata": {},
   "outputs": [],
   "source": [
    "import pandas as pd\n",
    "df = pd.read_csv(\"../data/raw/bbc_data.csv\")\n",
    "df[\"clean_text\"] = df[\"data\"].apply(preprocessor.clean)\n",
    "df[[\"clean_text\", \"labels\"]].to_csv(\"../data/processed/bbc_clean.csv\", index=False)"
   ]
  }
 ],
 "metadata": {
  "kernelspec": {
   "display_name": "Python 3",
   "language": "python",
   "name": "python3"
  },
  "language_info": {
   "codemirror_mode": {
    "name": "ipython",
    "version": 3
   },
   "file_extension": ".py",
   "mimetype": "text/x-python",
   "name": "python",
   "nbconvert_exporter": "python",
   "pygments_lexer": "ipython3",
   "version": "3.11.0"
  }
 },
 "nbformat": 4,
 "nbformat_minor": 2
}
